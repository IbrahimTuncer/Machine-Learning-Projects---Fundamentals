{
 "cells": [
  {
   "cell_type": "code",
   "execution_count": 11,
   "id": "84eb4dfa-33db-4eb2-af02-89aa43e472e6",
   "metadata": {},
   "outputs": [],
   "source": [
    "from sklearn.ensemble import GradientBoostingRegressor\n",
    "import numpy as np\n",
    "import pandas as pd\n",
    "from sklearn.model_selection import train_test_split\n",
    "from sklearn.metrics import mean_squared_error\n",
    "from sklearn.metrics import mean_absolute_error\n",
    "from sklearn.metrics import r2_score\n",
    "import warnings\n",
    "warnings.filterwarnings('ignore')"
   ]
  },
  {
   "cell_type": "markdown",
   "id": "eaf2585a-e893-45c8-9202-f2d446c9dd9c",
   "metadata": {},
   "source": [
    "DATA PREPARATION"
   ]
  },
  {
   "cell_type": "code",
   "execution_count": 41,
   "id": "f4dc29d6-1673-4299-a19f-fe9aa613345d",
   "metadata": {},
   "outputs": [],
   "source": [
    "boston = pd.read_csv('boston.csv')"
   ]
  },
  {
   "cell_type": "code",
   "execution_count": 64,
   "id": "70bb44f2-b9a7-45d0-b0e1-7c1b31dfbe72",
   "metadata": {},
   "outputs": [],
   "source": [
    "X = boston.drop(columns=['medv']) #Independent columns\n",
    "y = boston['medv'] # Dependent column - Median value of house"
   ]
  },
  {
   "cell_type": "raw",
   "id": "e081ffc9-ffff-4146-a9ae-5453d8b55c9a",
   "metadata": {},
   "source": [
    "CRIM - per capita crime rate by town\r\n",
    "ZN - proportion of residential land zoned for lots over 25,000 sq.ft.\r\n",
    "INDUS - proportion of non-retail business acres per town.\r\n",
    "CHAS - Charles River dummy variable (1 if tract bounds river; 0 otherwise)\r\n",
    "NOX - nitric oxides concentration (parts per 10 million)\r\n",
    "RM - average number of rooms per dwelling\r\n",
    "AGE - proportion of owner-occupied units built prior to 1940\r\n",
    "DIS - weighted distances to five Boston employment centres\r\n",
    "RAD - index of accessibility to radial highways\r\n",
    "TAX - full-value property-tax ate per\n",
    " $10,000\r\n",
    "PTRATIO - pupil-teacher ratio by town\r\n",
    "B - 1000(Bk - 0.63)^2 where Bk is the proportion of blacks by town\r\n",
    "LSTAT - % lower status of the population\r\n",
    "MEDV - Median value of owner-occupied homms in $1000's\r\n"
   ]
  },
  {
   "cell_type": "code",
   "execution_count": 66,
   "id": "e10f0c1b-e754-46e0-a51b-ac21d933a0df",
   "metadata": {},
   "outputs": [
    {
     "data": {
      "text/html": [
       "<div>\n",
       "<style scoped>\n",
       "    .dataframe tbody tr th:only-of-type {\n",
       "        vertical-align: middle;\n",
       "    }\n",
       "\n",
       "    .dataframe tbody tr th {\n",
       "        vertical-align: top;\n",
       "    }\n",
       "\n",
       "    .dataframe thead th {\n",
       "        text-align: right;\n",
       "    }\n",
       "</style>\n",
       "<table border=\"1\" class=\"dataframe\">\n",
       "  <thead>\n",
       "    <tr style=\"text-align: right;\">\n",
       "      <th></th>\n",
       "      <th>Unnamed: 0</th>\n",
       "      <th>crim</th>\n",
       "      <th>zn</th>\n",
       "      <th>indus</th>\n",
       "      <th>chas</th>\n",
       "      <th>nox</th>\n",
       "      <th>rm</th>\n",
       "      <th>age</th>\n",
       "      <th>dis</th>\n",
       "      <th>rad</th>\n",
       "      <th>tax</th>\n",
       "      <th>ptratio</th>\n",
       "      <th>black</th>\n",
       "      <th>lstat</th>\n",
       "      <th>medv</th>\n",
       "    </tr>\n",
       "  </thead>\n",
       "  <tbody>\n",
       "    <tr>\n",
       "      <th>0</th>\n",
       "      <td>1</td>\n",
       "      <td>0.00632</td>\n",
       "      <td>18.0</td>\n",
       "      <td>2.31</td>\n",
       "      <td>0</td>\n",
       "      <td>0.538</td>\n",
       "      <td>6.575</td>\n",
       "      <td>65.2</td>\n",
       "      <td>4.0900</td>\n",
       "      <td>1</td>\n",
       "      <td>296</td>\n",
       "      <td>15.3</td>\n",
       "      <td>396.90</td>\n",
       "      <td>4.98</td>\n",
       "      <td>24.0</td>\n",
       "    </tr>\n",
       "    <tr>\n",
       "      <th>1</th>\n",
       "      <td>2</td>\n",
       "      <td>0.02731</td>\n",
       "      <td>0.0</td>\n",
       "      <td>7.07</td>\n",
       "      <td>0</td>\n",
       "      <td>0.469</td>\n",
       "      <td>6.421</td>\n",
       "      <td>78.9</td>\n",
       "      <td>4.9671</td>\n",
       "      <td>2</td>\n",
       "      <td>242</td>\n",
       "      <td>17.8</td>\n",
       "      <td>396.90</td>\n",
       "      <td>9.14</td>\n",
       "      <td>21.6</td>\n",
       "    </tr>\n",
       "    <tr>\n",
       "      <th>2</th>\n",
       "      <td>3</td>\n",
       "      <td>0.02729</td>\n",
       "      <td>0.0</td>\n",
       "      <td>7.07</td>\n",
       "      <td>0</td>\n",
       "      <td>0.469</td>\n",
       "      <td>7.185</td>\n",
       "      <td>61.1</td>\n",
       "      <td>4.9671</td>\n",
       "      <td>2</td>\n",
       "      <td>242</td>\n",
       "      <td>17.8</td>\n",
       "      <td>392.83</td>\n",
       "      <td>4.03</td>\n",
       "      <td>34.7</td>\n",
       "    </tr>\n",
       "    <tr>\n",
       "      <th>3</th>\n",
       "      <td>4</td>\n",
       "      <td>0.03237</td>\n",
       "      <td>0.0</td>\n",
       "      <td>2.18</td>\n",
       "      <td>0</td>\n",
       "      <td>0.458</td>\n",
       "      <td>6.998</td>\n",
       "      <td>45.8</td>\n",
       "      <td>6.0622</td>\n",
       "      <td>3</td>\n",
       "      <td>222</td>\n",
       "      <td>18.7</td>\n",
       "      <td>394.63</td>\n",
       "      <td>2.94</td>\n",
       "      <td>33.4</td>\n",
       "    </tr>\n",
       "    <tr>\n",
       "      <th>4</th>\n",
       "      <td>5</td>\n",
       "      <td>0.06905</td>\n",
       "      <td>0.0</td>\n",
       "      <td>2.18</td>\n",
       "      <td>0</td>\n",
       "      <td>0.458</td>\n",
       "      <td>7.147</td>\n",
       "      <td>54.2</td>\n",
       "      <td>6.0622</td>\n",
       "      <td>3</td>\n",
       "      <td>222</td>\n",
       "      <td>18.7</td>\n",
       "      <td>396.90</td>\n",
       "      <td>5.33</td>\n",
       "      <td>36.2</td>\n",
       "    </tr>\n",
       "  </tbody>\n",
       "</table>\n",
       "</div>"
      ],
      "text/plain": [
       "   Unnamed: 0     crim    zn  indus  chas    nox     rm   age     dis  rad  \\\n",
       "0           1  0.00632  18.0   2.31     0  0.538  6.575  65.2  4.0900    1   \n",
       "1           2  0.02731   0.0   7.07     0  0.469  6.421  78.9  4.9671    2   \n",
       "2           3  0.02729   0.0   7.07     0  0.469  7.185  61.1  4.9671    2   \n",
       "3           4  0.03237   0.0   2.18     0  0.458  6.998  45.8  6.0622    3   \n",
       "4           5  0.06905   0.0   2.18     0  0.458  7.147  54.2  6.0622    3   \n",
       "\n",
       "   tax  ptratio   black  lstat  medv  \n",
       "0  296     15.3  396.90   4.98  24.0  \n",
       "1  242     17.8  396.90   9.14  21.6  \n",
       "2  242     17.8  392.83   4.03  34.7  \n",
       "3  222     18.7  394.63   2.94  33.4  \n",
       "4  222     18.7  396.90   5.33  36.2  "
      ]
     },
     "execution_count": 66,
     "metadata": {},
     "output_type": "execute_result"
    }
   ],
   "source": [
    "boston.head()"
   ]
  },
  {
   "cell_type": "code",
   "execution_count": 69,
   "id": "a0aa6177-7d9b-4b08-bef9-3e10c0e7761f",
   "metadata": {},
   "outputs": [
    {
     "data": {
      "text/plain": [
       "1    21.6\n",
       "2    34.7\n",
       "3    33.4\n",
       "4    36.2\n",
       "5    28.7\n",
       "6    22.9\n",
       "7    27.1\n",
       "8    16.5\n",
       "9    18.9\n",
       "Name: medv, dtype: float64"
      ]
     },
     "execution_count": 69,
     "metadata": {},
     "output_type": "execute_result"
    }
   ],
   "source": [
    "y[1:10] # response"
   ]
  },
  {
   "cell_type": "code",
   "execution_count": 73,
   "id": "911a78be-8187-4424-bc3f-3f9cb6ceb0b2",
   "metadata": {},
   "outputs": [],
   "source": [
    "# Splitting dataset as test and train\n",
    "X_train, X_test, y_train, y_test = train_test_split(X, y, test_size=0.2)"
   ]
  },
  {
   "cell_type": "markdown",
   "id": "6a8f678b-c84a-45e8-b0c1-96b3791c9002",
   "metadata": {},
   "source": [
    "Model training and evaluation"
   ]
  },
  {
   "cell_type": "code",
   "execution_count": 81,
   "id": "4b3d8037-e579-4a99-91c0-52eee89779f8",
   "metadata": {},
   "outputs": [],
   "source": [
    "# New GB Regressor object\n",
    "gradient_regressor = GradientBoostingRegressor(max_depth=2, n_estimators=3, learning_rate=1.0)"
   ]
  },
  {
   "cell_type": "code",
   "execution_count": 83,
   "id": "f839c327-bb9e-4c30-a7f8-c2446fbc0f4d",
   "metadata": {},
   "outputs": [],
   "source": [
    "# n_estimators: Number of weak learners to train iteratively\n",
    "# learning rate: It contributes to the weights of weak learners. It uses 1 as a default value"
   ]
  },
  {
   "cell_type": "code",
   "execution_count": 87,
   "id": "729a2cbb-751c-4761-9a83-713e4b8d8122",
   "metadata": {},
   "outputs": [],
   "source": [
    "# Train Gradient Boost Regressor\n",
    "model = gradient_regressor.fit(X_train, y_train)\n",
    "\n",
    "# Predicting the response for test dataset\n",
    "y_pred = model.predict(X_test)"
   ]
  },
  {
   "cell_type": "code",
   "execution_count": 89,
   "id": "d42aa637-406a-4112-bc3b-28760e28a905",
   "metadata": {},
   "outputs": [
    {
     "data": {
      "text/plain": [
       "0.7497624807987779"
      ]
     },
     "execution_count": 89,
     "metadata": {},
     "output_type": "execute_result"
    }
   ],
   "source": [
    "r2_score(y_pred, y_test)"
   ]
  },
  {
   "cell_type": "code",
   "execution_count": 111,
   "id": "7b9c68e0-b0f0-4c99-b073-3db5b7814f5e",
   "metadata": {},
   "outputs": [
    {
     "data": {
      "image/png": "[encoded data removed]",
      "text/plain": [
       "<Figure size 640x480 with 1 Axes>"
      ]
     },
     "metadata": {},
     "output_type": "display_data"
    }
   ],
   "source": [
    "import matplotlib.pyplot as plt\n",
    "%matplotlib inline\n",
    "\n",
    "# Plot feature importance\n",
    "feature_importance = model.feature_importances_ # Which one is more important for this model\n",
    "\n",
    "# Making importance relative to max importance\n",
    "feature_importance = 100.0 * (feature_importance / feature_importance.max())\n",
    "sorted_idx = np.argsort(feature_importance)\n",
    "pos = np.arange(sorted_idx.shape[0]) + .5\n",
    "plt.barh(pos, feature_importance[sorted_idx], align='center')\n",
    "plt.yticks(pos, boston.columns[sorted_idx])\n",
    "plt.xlabel('Relative Importance')\n",
    "plt.title('Variable Importance')\n",
    "plt.show()"
   ]
  },
  {
   "cell_type": "markdown",
   "id": "8ef58a48-8544-4adb-b05d-935bf5e7565b",
   "metadata": {},
   "source": [
    "Tunning the Hypermeters"
   ]
  },
  {
   "cell_type": "code",
   "execution_count": 117,
   "id": "06233e67-c910-4d86-9739-254e2cda4b98",
   "metadata": {},
   "outputs": [
    {
     "data": {
      "text/plain": [
       "({'learning_rate': 0.15, 'n_estimators': 100}, 0.8767247393244034)"
      ]
     },
     "execution_count": 117,
     "metadata": {},
     "output_type": "execute_result"
    }
   ],
   "source": [
    "from sklearn.model_selection import GridSearchCV\n",
    "LR = {'learning_rate':[0.15, 0.1, 0.1, 0.05], 'n_estimators':[100, 150, 200, 250]}\n",
    "\n",
    "tuning = GridSearchCV(estimator = GradientBoostingRegressor(), param_grid = LR, scoring='r2')\n",
    "tuning.fit(X_train, y_train)\n",
    "tuning.best_params_, tuning.best_score_"
   ]
  }
 ],
 "metadata": {
  "kernelspec": {
   "display_name": "Python 3 (ipykernel)",
   "language": "python",
   "name": "python3"
  },
  "language_info": {
   "codemirror_mode": {
    "name": "ipython",
    "version": 3
   },
   "file_extension": ".py",
   "mimetype": "text/x-python",
   "name": "python",
   "nbconvert_exporter": "python",
   "pygments_lexer": "ipython3",
   "version": "3.12.4"
  }
 },
 "nbformat": 4,
 "nbformat_minor": 5
}
